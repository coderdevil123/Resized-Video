{
  "nbformat": 4,
  "nbformat_minor": 0,
  "metadata": {
    "colab": {
      "provenance": [],
      "authorship_tag": "ABX9TyMv/Ht2XJz8Vt07hWqXcvwD",
      "include_colab_link": true
    },
    "kernelspec": {
      "name": "python3",
      "display_name": "Python 3"
    },
    "language_info": {
      "name": "python"
    }
  },
  "cells": [
    {
      "cell_type": "markdown",
      "metadata": {
        "id": "view-in-github",
        "colab_type": "text"
      },
      "source": [
        "<a href=\"https://colab.research.google.com/github/coderdevil123/Resized-Video/blob/main/Resized_video.ipynb\" target=\"_parent\"><img src=\"https://colab.research.google.com/assets/colab-badge.svg\" alt=\"Open In Colab\"/></a>"
      ]
    },
    {
      "cell_type": "code",
      "execution_count": 2,
      "metadata": {
        "colab": {
          "base_uri": "https://localhost:8080/"
        },
        "id": "71vuMa79rIUv",
        "outputId": "9f0f92e4-e3ad-4dc7-f271-277faac8bbb1"
      },
      "outputs": [
        {
          "output_type": "stream",
          "name": "stdout",
          "text": [
            "✅ Video resized to 50% and saved!\n"
          ]
        }
      ],
      "source": [
        "import cv2\n",
        "import os\n",
        "\n",
        "video = cv2.VideoCapture(\"input_video.mp4\")\n",
        "frame_width = int(video.get(3)) // 2\n",
        "frame_height = int(video.get(4)) // 2\n",
        "\n",
        "fourcc = cv2.VideoWriter_fourcc(*'XVID')\n",
        "out = cv2.VideoWriter(\"video_resized.avi\", fourcc, 20.0, (frame_width, frame_height))\n",
        "\n",
        "while video.isOpened():\n",
        "    ret, frame = video.read()\n",
        "    if not ret:\n",
        "        break\n",
        "\n",
        "    resized = cv2.resize(frame, (frame_width, frame_height))\n",
        "    out.write(resized)\n",
        "\n",
        "video.release()\n",
        "out.release()\n",
        "print(\"✅ Video resized to 50% and saved!\")\n"
      ]
    }
  ]
}